{
 "cells": [
  {
   "cell_type": "code",
   "execution_count": 2,
   "id": "df1da100-8e92-480f-85ca-4d20fa07d770",
   "metadata": {},
   "outputs": [],
   "source": [
    "# imports \n",
    "import numpy as np\n",
    "from engineering_notation import EngNumber"
   ]
  },
  {
   "cell_type": "markdown",
   "id": "92dd8967-bca9-47ee-b955-71aaf0e128b9",
   "metadata": {},
   "source": [
    "# Pan CV Circuit Calculations"
   ]
  },
  {
   "cell_type": "code",
   "execution_count": 14,
   "id": "b519f300-6bbe-47f6-8a1c-6398de9f2f1f",
   "metadata": {},
   "outputs": [
    {
     "name": "stdout",
     "output_type": "stream",
     "text": [
      "Required resistance for +/-2V fader control: 50kΩ\n",
      "Lower limit on output: -1.96V\n",
      "Upper limit on output: 1.96V\n",
      "Total input voltage p-to-p: 3.93V\n"
     ]
    }
   ],
   "source": [
    "# constants\n",
    "Vpos = 5\n",
    "Vneg = -5\n",
    "Rfb = 20e3\n",
    "VD_drop = 450e-3\n",
    "\n",
    "# calculate resistance for -2/2V CV\n",
    "Vlimit = 2\n",
    "Rfader = Rfb * (Vpos / Vlimit)\n",
    "print(f'Required resistance for +/-2V fader control: {EngNumber(Rfader)}Ω')\n",
    "\n",
    "# calculate resistance in limiter circuit to match the calculated limits\n",
    "R1_neg = 1e3\n",
    "R1_pos = 1e3\n",
    "R2_neg = 3.6e3\n",
    "R2_pos = 3.6e3\n",
    "limit_neg = Vneg * R1_pos/R2_pos - VD_drop * (1 + R1_pos/R2_pos)\n",
    "limit_pos = Vpos * R1_neg/R2_neg + VD_drop * (1 + R1_neg/R2_neg)\n",
    "print(f'Lower limit on output: {EngNumber(limit_neg)}V')\n",
    "print(f'Upper limit on output: {EngNumber(limit_pos)}V')\n",
    "print(f'Total input voltage p-to-p: {EngNumber(limit_pos-limit_neg)}V')"
   ]
  }
 ],
 "metadata": {
  "kernelspec": {
   "display_name": "Python 3 (ipykernel)",
   "language": "python",
   "name": "python3"
  },
  "language_info": {
   "codemirror_mode": {
    "name": "ipython",
    "version": 3
   },
   "file_extension": ".py",
   "mimetype": "text/x-python",
   "name": "python",
   "nbconvert_exporter": "python",
   "pygments_lexer": "ipython3",
   "version": "3.10.2"
  }
 },
 "nbformat": 4,
 "nbformat_minor": 5
}
