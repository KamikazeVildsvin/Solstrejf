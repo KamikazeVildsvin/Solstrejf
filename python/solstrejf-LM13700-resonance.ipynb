{
 "cells": [
  {
   "cell_type": "markdown",
   "id": "ee55236a",
   "metadata": {},
   "source": [
    "## Resonance frekvenser"
   ]
  },
  {
   "cell_type": "code",
   "execution_count": 2,
   "id": "0c763786",
   "metadata": {},
   "outputs": [],
   "source": [
    "import numpy as np"
   ]
  },
  {
   "cell_type": "code",
   "execution_count": 3,
   "id": "2543a2f5",
   "metadata": {},
   "outputs": [
    {
     "name": "stdout",
     "output_type": "stream",
     "text": [
      "Minimums resonans frekvens: 279.219198406834 Hz\n",
      "Maximale resonans frekvens: 1591.5494309189535 Hz\n",
      "Knækfrekvens for negativ feedback: 7875.0590347301 Hz\n"
     ]
    }
   ],
   "source": [
    "C = 10e-9           # to parallele 33nF caps\n",
    "Rmin = 10e3          # fast modstand\n",
    "Rmax = 47e3 + Rmin # potentiometer\n",
    "Rf = 33e3 + 10e3\n",
    "Cf = 470e-12\n",
    "\n",
    "# resonans frequency\n",
    "def ResoF(R,C):\n",
    "    return 1 / (2*np.pi*R*C)\n",
    "\n",
    "print(\"Minimums resonans frekvens:\", ResoF(Rmax,C), \"Hz\")\n",
    "print(\"Maximale resonans frekvens:\", ResoF(Rmin,C), \"Hz\")\n",
    "print(\"Knækfrekvens for negativ feedback:\", ResoF(Rf,Cf), \"Hz\")"
   ]
  },
  {
   "cell_type": "markdown",
   "id": "ee154e6e",
   "metadata": {},
   "source": [
    "## Udregning af R fra VCR (V13700)"
   ]
  },
  {
   "cell_type": "code",
   "execution_count": 12,
   "id": "e9d7fdfe",
   "metadata": {},
   "outputs": [
    {
     "data": {
      "text/plain": [
       "19.81006083988722"
      ]
     },
     "metadata": {},
     "output_type": "display_data"
    }
   ],
   "source": [
    "def gmTemp(T_celcius):\n",
    "    '''gm as a function of the temperature in celcius'''\n",
    "    # CONSTANTS\n",
    "    q = 1.602e-19 # charge of an electron\n",
    "    k = 1.38e-23  # Boltzman's constant\n",
    "    return q / (2*k*(273+T_celcius))\n",
    "    \n",
    "display(gmTemp(20))"
   ]
  },
  {
   "cell_type": "code",
   "execution_count": 37,
   "id": "361132ef",
   "metadata": {},
   "outputs": [
    {
     "name": "stdout",
     "output_type": "stream",
     "text": [
      "Control current: 1.440E-03 A\n",
      "Which results in a transconductance of: 2.765E-02 A/V\n",
      "The theoretical VCR, calculated from a gm value of 2.765E-02: Rx = 7.234E+03 Ω\n",
      "Current running in VCR resistor if 3 V is applied: 4.147E-04 A\n"
     ]
    },
    {
     "data": {
      "text/plain": [
       "10204.081632653062"
      ]
     },
     "metadata": {},
     "output_type": "display_data"
    }
   ],
   "source": [
    "def gm(Iabc):\n",
    "    '''gm value at 25°C. The constant 19.2 is taken from the LM13700 datasheet'''\n",
    "    return 19.2*Iabc\n",
    "\n",
    "# Calculate control current from control voltage\n",
    "\n",
    "Rcontrol = 15e3 \n",
    "Vcontrol = 8\n",
    "Vampbias = 1.4 # approximately two diode drops\n",
    "Vee = -15\n",
    "Vres = 3\n",
    "\n",
    "Iabc = (Vcontrol - (Vee + Vampbias)) / Rcontrol\n",
    "print(f'Control current: {Iabc:.3E} A')\n",
    "gm = gm(Iabc)\n",
    "print(f'Which results in a transconductance of: {gm:.3E} A/V')\n",
    "def RX(gm):\n",
    "    R = 100e3\n",
    "    R_A = 1e3\n",
    "    return 2*R/(gm*R_A)\n",
    "\n",
    "print(f'The theoretical VCR, calculated from a gm value of {gm:.3E}: Rx = {RX(gm):.3E} Ω')\n",
    "print(f'Current running in VCR resistor if {Vres} V is applied: {Vres / RX(gm):.3E} A')\n",
    "display(2/196e-6)"
   ]
  }
 ],
 "metadata": {
  "kernelspec": {
   "display_name": "Python 3 (ipykernel)",
   "language": "python",
   "name": "python3"
  },
  "language_info": {
   "codemirror_mode": {
    "name": "ipython",
    "version": 3
   },
   "file_extension": ".py",
   "mimetype": "text/x-python",
   "name": "python",
   "nbconvert_exporter": "python",
   "pygments_lexer": "ipython3",
   "version": "3.10.2"
  }
 },
 "nbformat": 4,
 "nbformat_minor": 5
}
