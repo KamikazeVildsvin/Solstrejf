{
 "cells": [
  {
   "cell_type": "code",
   "execution_count": 1,
   "id": "20b35ce4-7998-4447-a622-c1aa19f83d67",
   "metadata": {},
   "outputs": [],
   "source": [
    "import numpy as np\n",
    "from engineering_notation import EngNumber"
   ]
  },
  {
   "cell_type": "markdown",
   "id": "2bce5690-7ac7-4c05-b0ae-4ee64ec26686",
   "metadata": {},
   "source": [
    "# VCA Control Voltage Circuit - Calculations"
   ]
  },
  {
   "cell_type": "code",
   "execution_count": 84,
   "id": "32cb08f3-fce3-45a2-b0a9-dabd7ab2008f",
   "metadata": {},
   "outputs": [
    {
     "name": "stdout",
     "output_type": "stream",
     "text": [
      "R2 with R3=1kΩ: 36.33kΩ\n",
      "R5 with R4=1kΩ: 1.20kΩ\n"
     ]
    }
   ],
   "source": [
    "# CONSTANTS\n",
    "Vpos = 5\n",
    "Vneg = -5\n",
    "limit_pos = 5\n",
    "limit_neg = -600e-3\n",
    "R_base = 1e3\n",
    "\n",
    "def ratioNEG(limit, Vneg, V_D=450e-3):\n",
    "    '''Calculate the R3/R2 ratio'''\n",
    "    return (limit + V_D)/(Vneg - V_D)\n",
    "    \n",
    "def ratioPOS(limit, Vpos, V_D=450e-3):\n",
    "    '''Calculate the R4/R5 ratio'''\n",
    "    return (limit - V_D)/(Vpos + V_D)\n",
    "\n",
    "def findR2(ratio, R3=1e3):\n",
    "    '''Calculate the needed R2 resistor for a given ratio.'''\n",
    "    return R3/ratio\n",
    "    \n",
    "def findR5(ratio, R4=1e3):\n",
    "    '''Calculate the needed R5 resistor for a given ratio.'''\n",
    "    return R4/ratio\n",
    "\n",
    "# calculate resistance in limiter circuit to match the defined limits\n",
    "R2 = findR2(ratioNEG(limit_neg, Vneg), R3=R_base)\n",
    "print(f'R2 with R3={EngNumber(R_base)}Ω: {EngNumber(R2)}Ω')\n",
    "\n",
    "R5 = findR5(ratioPOS(limit_pos, Vpos), R4=R_base)\n",
    "print(f'R5 with R4={EngNumber(R_base)}Ω: {EngNumber(R5)}Ω')"
   ]
  }
 ],
 "metadata": {
  "kernelspec": {
   "display_name": "Python 3 (ipykernel)",
   "language": "python",
   "name": "python3"
  },
  "language_info": {
   "codemirror_mode": {
    "name": "ipython",
    "version": 3
   },
   "file_extension": ".py",
   "mimetype": "text/x-python",
   "name": "python",
   "nbconvert_exporter": "python",
   "pygments_lexer": "ipython3",
   "version": "3.10.2"
  }
 },
 "nbformat": 4,
 "nbformat_minor": 5
}
