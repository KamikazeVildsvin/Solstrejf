{
 "cells": [
  {
   "cell_type": "code",
   "execution_count": 1,
   "id": "cbd325eb-3ead-416a-a6a9-7b23989d1da3",
   "metadata": {},
   "outputs": [],
   "source": [
    "# IMPORTS\n",
    "import numpy as np\n",
    "from engineering_notation import EngNumber"
   ]
  },
  {
   "cell_type": "markdown",
   "id": "6ce43c33-1157-4397-a3e4-24e3deb7250b",
   "metadata": {},
   "source": [
    "# Frequency CV Summation Circuits"
   ]
  },
  {
   "cell_type": "code",
   "execution_count": 7,
   "id": "3a88a0c3-271d-47f5-a989-b7ba7a199067",
   "metadata": {},
   "outputs": [
    {
     "name": "stdout",
     "output_type": "stream",
     "text": [
      "Minimum input voltage for lowest CV: -8.16V\n",
      "Maximum input voltage for highest CV: 5.79V\n",
      "Lower limit on output: -8.18V\n",
      "Upper limit on output: 5.60V\n",
      "Total input voltage p-to-p: 13.78V\n",
      "Required resistor for a gain of 19mV/V: R2=51.63kΩ\n"
     ]
    }
   ],
   "source": [
    "# CONSTANTS\n",
    "Vpos = 15\n",
    "Vneg = -15\n",
    "Voct_gain = 19e-3\n",
    "CV_min = -155e-3\n",
    "CV_max = 110e-3\n",
    "VD_drop = 450e-3\n",
    "\n",
    "# equivalent whole 1V octaves\n",
    "Vin_min = CV_min / Voct_gain\n",
    "print(f'Minimum input voltage for lowest CV: {EngNumber(Vin_min)}V')\n",
    "Vin_max = CV_max / Voct_gain\n",
    "print(f'Maximum input voltage for highest CV: {EngNumber(Vin_max)}V')\n",
    "\n",
    "# calculate resistance in limiter circuit to match the calculated limits\n",
    "R1_neg = 1e3\n",
    "R1_pos = 1e3\n",
    "R2_neg = 3e3\n",
    "R2_pos = 2e3\n",
    "limit_neg = Vneg * R1_pos/R2_pos - VD_drop * (1 + R1_pos/R2_pos)\n",
    "limit_pos = Vpos * R1_neg/R2_neg + VD_drop * (1 + R1_neg/R2_neg)\n",
    "print(f'Lower limit on output: {EngNumber(limit_neg)}V')\n",
    "print(f'Upper limit on output: {EngNumber(limit_pos)}V')\n",
    "print(f'Total input voltage p-to-p: {EngNumber(limit_pos-limit_neg)}V')\n",
    "\n",
    "# calculate voltage divider\n",
    "R1_div = 1e3\n",
    "R2_div = R1_div * (1/Voct_gain - 1)\n",
    "print(f'Required resistor for a gain of {EngNumber(Voct_gain)}V/V: R2={EngNumber(R2_div)}Ω')"
   ]
  }
 ],
 "metadata": {
  "kernelspec": {
   "display_name": "Python 3 (ipykernel)",
   "language": "python",
   "name": "python3"
  },
  "language_info": {
   "codemirror_mode": {
    "name": "ipython",
    "version": 3
   },
   "file_extension": ".py",
   "mimetype": "text/x-python",
   "name": "python",
   "nbconvert_exporter": "python",
   "pygments_lexer": "ipython3",
   "version": "3.10.2"
  }
 },
 "nbformat": 4,
 "nbformat_minor": 5
}
