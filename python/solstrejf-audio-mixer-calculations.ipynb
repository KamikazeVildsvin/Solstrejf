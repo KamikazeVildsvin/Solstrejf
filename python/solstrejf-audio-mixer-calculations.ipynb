{
 "cells": [
  {
   "cell_type": "code",
   "execution_count": 1,
   "id": "ed1398cc-b8a6-4cb5-bad7-4bc3d2373017",
   "metadata": {},
   "outputs": [],
   "source": [
    "# IMPORTS\n",
    "import numpy as np\n",
    "from engineering_notation import EngNumber"
   ]
  },
  {
   "cell_type": "markdown",
   "id": "47609666-a9ac-46ee-a369-2ee87ff8af6f",
   "metadata": {},
   "source": [
    "# Solstrejf - Audio Mixer Calculations"
   ]
  },
  {
   "cell_type": "code",
   "execution_count": 5,
   "id": "c3c342ef-8afc-4a6f-84fc-b375f7f9f2f2",
   "metadata": {},
   "outputs": [
    {
     "name": "stdout",
     "output_type": "stream",
     "text": [
      "Voltage divider input gain: 0.014493 [V/V]\n",
      "Maximum input voltage at the voltage divider: 2.76V\n",
      "Maximum output current of one pan VCA, assuming a 40mV voltage limit: 80uA\n",
      "Total maximum current from all four voices: 320uA\n",
      "TIA resistance to get 6dBu: 4.84kΩ\n",
      "Feedback capacitor size for a bandwidth of 20kHz: 1.64nF\n"
     ]
    }
   ],
   "source": [
    "## PAN VCA CALCULATIONS ##\n",
    "gm_max = 2e-3\n",
    "R1 = 68e3\n",
    "R2 = 1e3\n",
    "\n",
    "# voltage divider gain at the input of PAN VCA's\n",
    "gain_in = R2 / (R1 + R2)\n",
    "print(f'Voltage divider input gain: {gain_in:.6f} [V/V]')\n",
    "\n",
    "# Max input voltage before VD\n",
    "VCA_V_MAX = 40e-3\n",
    "Vin_MAX =  VCA_V_MAX / gain_in\n",
    "print(f'Maximum input voltage at the voltage divider: {EngNumber(Vin_MAX)}V')\n",
    "\n",
    "## AUDIO MIXER - POST VCA SUMMER ##\n",
    "\n",
    "# maximum current\n",
    "I_outMAX = VCA_V_MAX * gm_max\n",
    "print(f'Maximum output current of one pan VCA, assuming a {EngNumber(VCA_V_MAX)}V voltage limit: {EngNumber(I_outMAX)}A')\n",
    "\n",
    "# maximum summed current\n",
    "I_sumMAX = 4 * I_outMAX\n",
    "print(f'Total maximum current from all four voices: {EngNumber(I_sumMAX)}A')\n",
    "\n",
    "# calculate TIA resistor to meet the 0=dBu standard\n",
    "dBu_ref = 0.7746\n",
    "R_F = dBu_ref*2 / I_sumMAX\n",
    "print(f'TIA resistance to get 6dBu: {EngNumber(R_F)}Ω')\n",
    "\n",
    "# calculate capacitor size on summer\n",
    "bandwidth = 20e3 # in Hertz\n",
    "C_F = 1 / (2*np.pi*R_F*bandwidth)\n",
    "print(f'Feedback capacitor size for a bandwidth of {EngNumber(bandwidth)}Hz: {EngNumber(C_F)}F')"
   ]
  }
 ],
 "metadata": {
  "kernelspec": {
   "display_name": "Python 3 (ipykernel)",
   "language": "python",
   "name": "python3"
  },
  "language_info": {
   "codemirror_mode": {
    "name": "ipython",
    "version": 3
   },
   "file_extension": ".py",
   "mimetype": "text/x-python",
   "name": "python",
   "nbconvert_exporter": "python",
   "pygments_lexer": "ipython3",
   "version": "3.10.2"
  }
 },
 "nbformat": 4,
 "nbformat_minor": 5
}
