{
 "cells": [
  {
   "cell_type": "code",
   "execution_count": 2,
   "id": "cbd325eb-3ead-416a-a6a9-7b23989d1da3",
   "metadata": {},
   "outputs": [],
   "source": [
    "# IMPORTS\n",
    "import numpy as np\n",
    "from engineering_notation import EngNumber"
   ]
  },
  {
   "cell_type": "markdown",
   "id": "6ce43c33-1157-4397-a3e4-24e3deb7250b",
   "metadata": {},
   "source": [
    "# Frequency CV Summation Circuits"
   ]
  },
  {
   "cell_type": "code",
   "execution_count": 8,
   "id": "a8b724a4-ccf0-4b28-b607-1b0c3422a847",
   "metadata": {},
   "outputs": [
    {
     "name": "stdout",
     "output_type": "stream",
     "text": [
      "Minimum input voltage for lowest CV: -8.16V\n",
      "Maximum input voltage for highest CV: 5.79V\n",
      "R2 with R3=1kΩ: 1.62kΩ\n",
      "R5 with R4=1kΩ: 2.33kΩ\n",
      "Required resistor for a gain of 19mV/V: R2=51.63kΩ\n"
     ]
    }
   ],
   "source": [
    "# CONSTANTS\n",
    "Vpos = 12 # positive voltage reference\n",
    "Vneg = -12 # negative voltage reference\n",
    "Voct_gain = 19e-3 # typical octave/volt gain for the AS3372E\n",
    "CV_min = -155e-3 # minimum CV at the input of the AS3372E\n",
    "CV_max = 110e-3 # maximum CV at the input of the AS3372E\n",
    "VD_drop = 450e-3 # typical diode drop of the 1N4148\n",
    "R_base = 1e3 # base resistor value\n",
    "\n",
    "def ratioNEG(limit, Vneg, V_D=450e-3):\n",
    "    '''Calculate the R3/R2 ratio'''\n",
    "    return (limit + V_D)/(Vneg - V_D)\n",
    "    \n",
    "def ratioPOS(limit, Vpos, V_D=450e-3):\n",
    "    '''Calculate the R4/R5 ratio'''\n",
    "    return (limit - V_D)/(Vpos + V_D)\n",
    "\n",
    "def findR2(ratio, R3=1e3):\n",
    "    '''Calculate the needed R2 resistor for a given ratio.'''\n",
    "    return R3/ratio\n",
    "    \n",
    "def findR5(ratio, R4=1e3):\n",
    "    '''Calculate the needed R5 resistor for a given ratio.'''\n",
    "    return R4/ratio\n",
    "\n",
    "# equivalent whole 1V octaves\n",
    "Vin_min = CV_min / Voct_gain\n",
    "print(f'Minimum input voltage for lowest CV: {EngNumber(Vin_min)}V')\n",
    "Vin_max = CV_max / Voct_gain\n",
    "print(f'Maximum input voltage for highest CV: {EngNumber(Vin_max)}V')\n",
    "\n",
    "# calculate resistance in limiter circuit to match the defined limits\n",
    "R2 = findR2(ratioNEG(Vin_min, Vneg), R3=R_base)\n",
    "print(f'R2 with R3={EngNumber(R_base)}Ω: {EngNumber(R2)}Ω')\n",
    "\n",
    "R5 = findR5(ratioPOS(Vin_max, Vpos), R4=R_base)\n",
    "print(f'R5 with R4={EngNumber(R_base)}Ω: {EngNumber(R5)}Ω')\n",
    "\n",
    "# calculate voltage divider\n",
    "R1_div = 1e3\n",
    "R2_div = R1_div * (1/Voct_gain - 1)\n",
    "print(f'Required resistor for a gain of {EngNumber(Voct_gain)}V/V: R2={EngNumber(R2_div)}Ω')\n",
    "\n"
   ]
  }
 ],
 "metadata": {
  "kernelspec": {
   "display_name": "Python 3 (ipykernel)",
   "language": "python",
   "name": "python3"
  },
  "language_info": {
   "codemirror_mode": {
    "name": "ipython",
    "version": 3
   },
   "file_extension": ".py",
   "mimetype": "text/x-python",
   "name": "python",
   "nbconvert_exporter": "python",
   "pygments_lexer": "ipython3",
   "version": "3.10.2"
  }
 },
 "nbformat": 4,
 "nbformat_minor": 5
}
